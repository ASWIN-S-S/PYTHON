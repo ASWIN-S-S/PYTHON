{
 "cells": [
  {
   "cell_type": "markdown",
   "id": "b4769bbc-5bfd-45f2-9a51-deebf73834c0",
   "metadata": {},
   "source": [
    "# PROJECT CALCULATOR"
   ]
  },
  {
   "cell_type": "code",
   "execution_count": 1,
   "id": "53fed57a-304f-4530-b895-f89f12b33c66",
   "metadata": {},
   "outputs": [],
   "source": [
    "from tkinter import*\n",
    "\n",
    "def click(event):\n",
    "    current=display.get()\n",
    "    text=event.widget.cget(\"text\")\n",
    "    if text==\"=\":\n",
    "        result= eval(current)\n",
    "        display.delete(0,END)\n",
    "        display.insert(END,result)\n",
    "    elif text==\"C\":\n",
    "        display.delete(0,END)\n",
    "    else:\n",
    "         display.insert(END,text)\n",
    "   \n",
    "\n",
    "window=Tk()\n",
    "window.title(\"Calculator\")\n",
    "window.iconbitmap(\"C:/Users/ASWIN/Downloads/calculator_icon.ico\")\n",
    "window.config(bg=\"black\")\n",
    "\n",
    "\n",
    "display=Entry(window,font=(\"Arial\",25),justify=\"right\")\n",
    "display.pack(fill=X,padx=10,pady=10,ipady=10)\n",
    "\n",
    "btn_frame=Frame(window,bg=\"black\")\n",
    "btn_frame.pack()\n",
    "\n",
    "button_labels=[\n",
    "    \"7\",\"8\",\"9\",\"+\",\n",
    "    \"4\",\"5\",\"6\",\"-\",\n",
    "    \"1\",\"2\",\"3\",\"*\",\n",
    "    \"C\",\"0\",\"=\",\"/\"\n",
    "]\n",
    "\n",
    "i=0\n",
    "for label in button_labels:\n",
    "    button=Button(btn_frame,text=label,font=(\"arial\",18),padx=20,pady=20) \n",
    "    button.grid(row=i//4,column=i%4,padx=10,pady=10)                     \n",
    "    button.bind(\"<Button-1>\",click)\n",
    "    i+=1\n",
    "window.mainloop()\n",
    "\n",
    "\n",
    "\n",
    "\n",
    "\n",
    "\n",
    "\n"
   ]
  },
  {
   "cell_type": "code",
   "execution_count": null,
   "id": "9a90141b-3f56-4a56-9bfe-a268a3eb31be",
   "metadata": {},
   "outputs": [],
   "source": []
  },
  {
   "cell_type": "code",
   "execution_count": null,
   "id": "28d4f44b-65cb-4bfb-8e79-62d067572bc4",
   "metadata": {},
   "outputs": [],
   "source": []
  },
  {
   "cell_type": "code",
   "execution_count": null,
   "id": "02efbdbe-702e-4f60-ad86-aea43caf75e5",
   "metadata": {},
   "outputs": [],
   "source": []
  },
  {
   "cell_type": "code",
   "execution_count": null,
   "id": "79215ba8-d307-402c-abf5-7e8556b59784",
   "metadata": {},
   "outputs": [],
   "source": []
  },
  {
   "cell_type": "code",
   "execution_count": null,
   "id": "c35c3c36-1e2e-41ae-8659-127cc6aa4c45",
   "metadata": {},
   "outputs": [],
   "source": []
  },
  {
   "cell_type": "code",
   "execution_count": null,
   "id": "13892d6d-cabb-48e1-aed7-f1b4f086e812",
   "metadata": {},
   "outputs": [],
   "source": []
  },
  {
   "cell_type": "code",
   "execution_count": null,
   "id": "3df26819-72bc-42ad-9e49-b2d3a06327b4",
   "metadata": {},
   "outputs": [],
   "source": []
  },
  {
   "cell_type": "code",
   "execution_count": null,
   "id": "6b0a9cd6-2ac0-4003-92d0-7ee8cdae8c40",
   "metadata": {},
   "outputs": [],
   "source": []
  },
  {
   "cell_type": "code",
   "execution_count": null,
   "id": "312b0bf5-444b-4153-9b66-c160ea9dc53f",
   "metadata": {},
   "outputs": [],
   "source": []
  }
 ],
 "metadata": {
  "kernelspec": {
   "display_name": "Python 3 (ipykernel)",
   "language": "python",
   "name": "python3"
  },
  "language_info": {
   "codemirror_mode": {
    "name": "ipython",
    "version": 3
   },
   "file_extension": ".py",
   "mimetype": "text/x-python",
   "name": "python",
   "nbconvert_exporter": "python",
   "pygments_lexer": "ipython3",
   "version": "3.11.7"
  }
 },
 "nbformat": 4,
 "nbformat_minor": 5
}
