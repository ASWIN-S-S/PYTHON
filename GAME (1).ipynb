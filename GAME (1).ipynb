{
 "cells": [
  {
   "cell_type": "code",
   "execution_count": 4,
   "id": "734538d1-94d7-4651-81ad-c141a10c685f",
   "metadata": {},
   "outputs": [],
   "source": [
    "class Game:\n",
    "    \n",
    "    def game1(self):\n",
    "\n",
    "\n",
    "\n",
    "            import random\n",
    "            board=[' ']*10\n",
    "            computer=\"x\"\n",
    "            human=\"o\"\n",
    "            print(\"TIC TAC TOE\")\n",
    "            def display_board(board):\n",
    "                print(f\"{board[1]} | {board[2]} | {board[3]}\")\n",
    "                \n",
    "                print(f\"{board[4]} | {board[5]} | {board[6]}\")\n",
    "                \n",
    "                print(f\"{board[7]} | {board[8]} | {board[9]}\")\n",
    "                print('-'*10)\n",
    "            \n",
    "            def check_win():\n",
    "                if board[1] == board[2] == board[3] and board[1] != ' ':\n",
    "                    return True\n",
    "                elif board[4] == board[5] == board[6] and board[4] != ' ':\n",
    "                    return True\n",
    "                elif board[7] == board[8] == board[9] and board[7] != ' ':\n",
    "                    return True\n",
    "                elif board[1] == board[4] == board[7] and board[1] != ' ':\n",
    "                    return True\n",
    "                elif board[2] == board[5] == board[8] and board[2] != ' ':\n",
    "                    return True\n",
    "                elif board[3] == board[6] == board[9] and board[3] != ' ':\n",
    "                    return True\n",
    "                elif board[1] == board[5] == board[9] and board[1] != ' ':\n",
    "                    return True\n",
    "                elif board[7] == board[5] == board[3] and board[7] != ' ':\n",
    "                    return True\n",
    "                else:\n",
    "                    return False\n",
    "            \n",
    "            def check_draw():\n",
    "                return board.count(' ')<2\n",
    "                    \n",
    "                    \n",
    "            \n",
    "            def is_available(pos):\n",
    "                return board[pos]==\" \"\n",
    "            \n",
    "            def insert(letter,pos):\n",
    "                if is_available(pos):\n",
    "                    board[pos]=letter\n",
    "                    display_board(board)\n",
    "                    if check_win():\n",
    "                        if letter==\"x\":\n",
    "                             print(\"computer win\")\n",
    "                             exit()\n",
    "                        else:\n",
    "                            print(\"human win\")\n",
    "                            exit()\n",
    "                    if check_draw():\n",
    "                        print(\"Draw\")\n",
    "                        exit()\n",
    "            \n",
    "                else:\n",
    "                      if letter==\"o\":\n",
    "                          pos=int(input(\"Not free ! please re-enter a position\"))\n",
    "                      else:\n",
    "                          pos=random.randint(1,9)\n",
    "                      insert(letter,pos)\n",
    "                         \n",
    "                     \n",
    "                        \n",
    "                      \n",
    "                        \n",
    "                       \n",
    "                 \n",
    "                    \n",
    "                    \n",
    "                    \n",
    "            def human_move(letter):\n",
    "                pos=int(input(\"Enter the position to insert\"))\n",
    "                insert(letter,pos)\n",
    "            def computer_move(letter):\n",
    "                pos=random.randint(1,9)\n",
    "                insert(letter,pos)\n",
    "                \n",
    "            \n",
    "            \n",
    "            \n",
    "            \n",
    "                \n",
    "            while not check_win():\n",
    "                display_board(board)\n",
    "                computer_move(computer)\n",
    "                human_move(human)\n",
    "\n",
    "    def game2(self):\n",
    "        print(\"Rock Paper Scissor\")\n",
    "        print(\"R for rock\\nP for paper\\nS for scissors\")\n",
    "        player1_input=str(input())\n",
    "        player2_input=str(input())\n",
    "        player1_choice=player1_input.upper()\n",
    "        player2_choice=player2_input.upper()\n",
    "\n",
    "\n",
    "\n",
    "        def rockpaperscissors(player1_choice,player2_choice):\n",
    "            if player1_choice==player2_choice:\n",
    "                print(\"TIE !!!\")\n",
    "            elif (player1_choice==\"R\" and player2_choice==\"S\") or (player1_choice==\"P\" and player2_choice==\"R\") or (player1_choice==\"S\" and player2_choice==\"P\"):\n",
    "                print(\"player1 won !!!\")\n",
    "            else:\n",
    "                print(\"player2 won !!!\")\n",
    "            print(\"player1:\",player1_choice,\"player2:\",player2_choice)\n",
    "        \n",
    "        \n",
    "        rockpaperscissors(player1_choice,player2_choice)\n",
    "                    \n",
    "        \n",
    "       "
   ]
  },
  {
   "cell_type": "code",
   "execution_count": 5,
   "id": "edf7050f-1072-46d3-ad82-346d9d9c3abe",
   "metadata": {},
   "outputs": [
    {
     "name": "stdout",
     "output_type": "stream",
     "text": [
      "Rock Paper Scissor\n",
      "R for rock\n",
      "P for paper\n",
      "S for scissors\n"
     ]
    },
    {
     "name": "stdin",
     "output_type": "stream",
     "text": [
      " r\n",
      " s\n"
     ]
    },
    {
     "name": "stdout",
     "output_type": "stream",
     "text": [
      "player1 won !!!\n",
      "player1: R player2: S\n"
     ]
    }
   ],
   "source": [
    "g1=Game()\n",
    "g1.game2()"
   ]
  },
  {
   "cell_type": "code",
   "execution_count": 6,
   "id": "4a98716a-c00e-41dc-b3ad-3bdb970c4495",
   "metadata": {},
   "outputs": [
    {
     "name": "stdout",
     "output_type": "stream",
     "text": [
      "TIC TAC TOE\n",
      "  |   |  \n",
      "  |   |  \n",
      "  |   |  \n",
      "----------\n",
      "  |   |  \n",
      "  |   | x\n",
      "  |   |  \n",
      "----------\n"
     ]
    },
    {
     "name": "stdin",
     "output_type": "stream",
     "text": [
      "Enter the position to insert 4\n"
     ]
    },
    {
     "name": "stdout",
     "output_type": "stream",
     "text": [
      "  |   |  \n",
      "o |   | x\n",
      "  |   |  \n",
      "----------\n",
      "  |   |  \n",
      "o |   | x\n",
      "  |   |  \n",
      "----------\n",
      "  | x |  \n",
      "o |   | x\n",
      "  |   |  \n",
      "----------\n"
     ]
    },
    {
     "name": "stdin",
     "output_type": "stream",
     "text": [
      "Enter the position to insert 1\n"
     ]
    },
    {
     "name": "stdout",
     "output_type": "stream",
     "text": [
      "o | x |  \n",
      "o |   | x\n",
      "  |   |  \n",
      "----------\n",
      "o | x |  \n",
      "o |   | x\n",
      "  |   |  \n",
      "----------\n",
      "o | x |  \n",
      "o |   | x\n",
      "  | x |  \n",
      "----------\n"
     ]
    },
    {
     "name": "stdin",
     "output_type": "stream",
     "text": [
      "Enter the position to insert 7\n"
     ]
    },
    {
     "name": "stdout",
     "output_type": "stream",
     "text": [
      "o | x |  \n",
      "o |   | x\n",
      "o | x |  \n",
      "----------\n",
      "human win\n"
     ]
    }
   ],
   "source": [
    "g1.game1()"
   ]
  },
  {
   "cell_type": "code",
   "execution_count": null,
   "id": "8aef3ff6-8143-4144-9b1b-3645e8ccdf9e",
   "metadata": {},
   "outputs": [],
   "source": []
  },
  {
   "cell_type": "code",
   "execution_count": null,
   "id": "a63db126-8f23-451c-9614-d346ade8e361",
   "metadata": {},
   "outputs": [],
   "source": []
  },
  {
   "cell_type": "code",
   "execution_count": null,
   "id": "de3f17d0-e624-4200-8c63-fcb71a9b8ae8",
   "metadata": {},
   "outputs": [],
   "source": []
  }
 ],
 "metadata": {
  "kernelspec": {
   "display_name": "Python 3 (ipykernel)",
   "language": "python",
   "name": "python3"
  },
  "language_info": {
   "codemirror_mode": {
    "name": "ipython",
    "version": 3
   },
   "file_extension": ".py",
   "mimetype": "text/x-python",
   "name": "python",
   "nbconvert_exporter": "python",
   "pygments_lexer": "ipython3",
   "version": "3.11.7"
  }
 },
 "nbformat": 4,
 "nbformat_minor": 5
}
